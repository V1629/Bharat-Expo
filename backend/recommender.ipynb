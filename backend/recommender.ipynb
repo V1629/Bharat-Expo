{
 "cells": [
  {
   "cell_type": "code",
   "execution_count": 1,
   "metadata": {},
   "outputs": [],
   "source": [
    "# Import necessary libraries\n",
    "import pandas as pd\n",
    "from sklearn.feature_extraction.text import TfidfVectorizer\n",
    "from sklearn.metrics.pairwise import cosine_similarity"
   ]
  },
  {
   "cell_type": "code",
   "execution_count": 2,
   "metadata": {},
   "outputs": [],
   "source": [
    "# !pip install scikit-learn"
   ]
  },
  {
   "cell_type": "code",
   "execution_count": 3,
   "metadata": {},
   "outputs": [
    {
     "data": {
      "text/html": [
       "<div>\n",
       "<style scoped>\n",
       "    .dataframe tbody tr th:only-of-type {\n",
       "        vertical-align: middle;\n",
       "    }\n",
       "\n",
       "    .dataframe tbody tr th {\n",
       "        vertical-align: top;\n",
       "    }\n",
       "\n",
       "    .dataframe thead th {\n",
       "        text-align: right;\n",
       "    }\n",
       "</style>\n",
       "<table border=\"1\" class=\"dataframe\">\n",
       "  <thead>\n",
       "    <tr style=\"text-align: right;\">\n",
       "      <th></th>\n",
       "      <th>title</th>\n",
       "      <th>description</th>\n",
       "      <th>publishedAt</th>\n",
       "      <th>channelTitle</th>\n",
       "      <th>videoId</th>\n",
       "    </tr>\n",
       "  </thead>\n",
       "  <tbody>\n",
       "    <tr>\n",
       "      <th>0</th>\n",
       "      <td>Organic Chemistry | Reaction Mechanism 01 | Ty...</td>\n",
       "      <td>For PDF Notes and best Assignments visit @  ht...</td>\n",
       "      <td>2019-01-18T14:34:13Z</td>\n",
       "      <td>Physics Wallah - Alakh Pandey</td>\n",
       "      <td>yMgv_yvL8o8</td>\n",
       "    </tr>\n",
       "    <tr>\n",
       "      <th>1</th>\n",
       "      <td>Organic Chemistry | Reaction Mechanism 02 | Fr...</td>\n",
       "      <td>For PDF Notes and best Assignments visit @  ht...</td>\n",
       "      <td>2019-01-18T14:34:13Z</td>\n",
       "      <td>Physics Wallah - Alakh Pandey</td>\n",
       "      <td>ByfT-458Eoc</td>\n",
       "    </tr>\n",
       "    <tr>\n",
       "      <th>2</th>\n",
       "      <td>Reaction Mechanism 03 | Free Radical Substitut...</td>\n",
       "      <td>For PDF Notes and best Assignments visit http:...</td>\n",
       "      <td>2019-01-18T14:34:13Z</td>\n",
       "      <td>Physics Wallah - Alakh Pandey</td>\n",
       "      <td>iXvpYAxpvy0</td>\n",
       "    </tr>\n",
       "    <tr>\n",
       "      <th>3</th>\n",
       "      <td>Reaction Mechanism 04 || Free Radical Substitu...</td>\n",
       "      <td>For PDF Notes and best Assignments visit http:...</td>\n",
       "      <td>2019-01-18T14:34:13Z</td>\n",
       "      <td>Physics Wallah - Alakh Pandey</td>\n",
       "      <td>ghbjFdbn7Bs</td>\n",
       "    </tr>\n",
       "    <tr>\n",
       "      <th>4</th>\n",
       "      <td>Reaction Mechanism 05 | Electrophilic Substitu...</td>\n",
       "      <td>For PDF Notes and best Assignments visit http:...</td>\n",
       "      <td>2019-01-19T18:36:23Z</td>\n",
       "      <td>Physics Wallah - Alakh Pandey</td>\n",
       "      <td>FaqaUXfbVVg</td>\n",
       "    </tr>\n",
       "    <tr>\n",
       "      <th>5</th>\n",
       "      <td>Reaction Mechanism 06 | Electrophilic Substitu...</td>\n",
       "      <td>For PDF Notes and best Assignments visit http:...</td>\n",
       "      <td>2019-01-20T18:59:57Z</td>\n",
       "      <td>Physics Wallah - Alakh Pandey</td>\n",
       "      <td>DpEz-viSqIk</td>\n",
       "    </tr>\n",
       "    <tr>\n",
       "      <th>6</th>\n",
       "      <td>Reaction Mechanism 07| Electrophilic Substitut...</td>\n",
       "      <td>For PDF Notes and best Assignments visit http:...</td>\n",
       "      <td>2019-01-28T09:08:47Z</td>\n",
       "      <td>Physics Wallah - Alakh Pandey</td>\n",
       "      <td>DbLRZuwozuY</td>\n",
       "    </tr>\n",
       "    <tr>\n",
       "      <th>7</th>\n",
       "      <td>Reaction Mechanism 08 | Nucleophilic Substitut...</td>\n",
       "      <td>For PDF Notes and best Assignments visit http:...</td>\n",
       "      <td>2019-01-29T10:46:12Z</td>\n",
       "      <td>Physics Wallah - Alakh Pandey</td>\n",
       "      <td>Qwqemb3a1oc</td>\n",
       "    </tr>\n",
       "    <tr>\n",
       "      <th>8</th>\n",
       "      <td>Reaction Mechanism 09 | Nucleophilic Substitut...</td>\n",
       "      <td>For PDF Notes and best Assignments visit http:...</td>\n",
       "      <td>2019-01-30T12:49:50Z</td>\n",
       "      <td>Physics Wallah - Alakh Pandey</td>\n",
       "      <td>zzaGc5J4J_E</td>\n",
       "    </tr>\n",
       "    <tr>\n",
       "      <th>9</th>\n",
       "      <td>Reaction Mechanism 10 | Nucleophilic Substitut...</td>\n",
       "      <td>For PDF Notes and best Assignments visit http:...</td>\n",
       "      <td>2019-01-31T17:34:54Z</td>\n",
       "      <td>Physics Wallah - Alakh Pandey</td>\n",
       "      <td>AkxlE-GJPHE</td>\n",
       "    </tr>\n",
       "  </tbody>\n",
       "</table>\n",
       "</div>"
      ],
      "text/plain": [
       "                                               title  \\\n",
       "0  Organic Chemistry | Reaction Mechanism 01 | Ty...   \n",
       "1  Organic Chemistry | Reaction Mechanism 02 | Fr...   \n",
       "2  Reaction Mechanism 03 | Free Radical Substitut...   \n",
       "3  Reaction Mechanism 04 || Free Radical Substitu...   \n",
       "4  Reaction Mechanism 05 | Electrophilic Substitu...   \n",
       "5  Reaction Mechanism 06 | Electrophilic Substitu...   \n",
       "6  Reaction Mechanism 07| Electrophilic Substitut...   \n",
       "7  Reaction Mechanism 08 | Nucleophilic Substitut...   \n",
       "8  Reaction Mechanism 09 | Nucleophilic Substitut...   \n",
       "9  Reaction Mechanism 10 | Nucleophilic Substitut...   \n",
       "\n",
       "                                         description           publishedAt  \\\n",
       "0  For PDF Notes and best Assignments visit @  ht...  2019-01-18T14:34:13Z   \n",
       "1  For PDF Notes and best Assignments visit @  ht...  2019-01-18T14:34:13Z   \n",
       "2  For PDF Notes and best Assignments visit http:...  2019-01-18T14:34:13Z   \n",
       "3  For PDF Notes and best Assignments visit http:...  2019-01-18T14:34:13Z   \n",
       "4  For PDF Notes and best Assignments visit http:...  2019-01-19T18:36:23Z   \n",
       "5  For PDF Notes and best Assignments visit http:...  2019-01-20T18:59:57Z   \n",
       "6  For PDF Notes and best Assignments visit http:...  2019-01-28T09:08:47Z   \n",
       "7  For PDF Notes and best Assignments visit http:...  2019-01-29T10:46:12Z   \n",
       "8  For PDF Notes and best Assignments visit http:...  2019-01-30T12:49:50Z   \n",
       "9  For PDF Notes and best Assignments visit http:...  2019-01-31T17:34:54Z   \n",
       "\n",
       "                    channelTitle      videoId  \n",
       "0  Physics Wallah - Alakh Pandey  yMgv_yvL8o8  \n",
       "1  Physics Wallah - Alakh Pandey  ByfT-458Eoc  \n",
       "2  Physics Wallah - Alakh Pandey  iXvpYAxpvy0  \n",
       "3  Physics Wallah - Alakh Pandey  ghbjFdbn7Bs  \n",
       "4  Physics Wallah - Alakh Pandey  FaqaUXfbVVg  \n",
       "5  Physics Wallah - Alakh Pandey  DpEz-viSqIk  \n",
       "6  Physics Wallah - Alakh Pandey  DbLRZuwozuY  \n",
       "7  Physics Wallah - Alakh Pandey  Qwqemb3a1oc  \n",
       "8  Physics Wallah - Alakh Pandey  zzaGc5J4J_E  \n",
       "9  Physics Wallah - Alakh Pandey  AkxlE-GJPHE  "
      ]
     },
     "execution_count": 3,
     "metadata": {},
     "output_type": "execute_result"
    }
   ],
   "source": [
    "# Load course data (assuming data is available as a CSV file)\n",
    "data = pd.read_csv('youtube_api.csv')  # Replace with your data source\n",
    "data.head(10) # Check the first few entries to understand the structure"
   ]
  },
  {
   "cell_type": "code",
   "execution_count": 4,
   "metadata": {},
   "outputs": [],
   "source": [
    "# Step 1: Preprocessing\n",
    "# Convert descriptions to lowercase and handle NaN values\n",
    "data['description'] = data['description'].fillna('').str.lower()"
   ]
  },
  {
   "cell_type": "code",
   "execution_count": 5,
   "metadata": {},
   "outputs": [],
   "source": [
    "# Step 2: TF-IDF Vectorization\n",
    "vectorizer = TfidfVectorizer(stop_words='english')\n",
    "tfidf_matrix = vectorizer.fit_transform(data['description'])"
   ]
  },
  {
   "cell_type": "code",
   "execution_count": 6,
   "metadata": {},
   "outputs": [],
   "source": [
    "# Step 3: Compute Cosine Similarity Matrix\n",
    "cosine_sim_matrix = cosine_similarity(tfidf_matrix, tfidf_matrix)"
   ]
  },
  {
   "cell_type": "code",
   "execution_count": null,
   "metadata": {},
   "outputs": [],
   "source": [
    "# Step 4: Building a Recommendation Function\n",
    "def get_recommendations(course_index, cosine_sim_matrix, data):\n",
    "    # Get similarity scores for the input course\n",
    "    similarity_scores = list(enumerate(cosine_sim_matrix[course_index]))\n",
    "    # Sort the courses based on similarity scores\n",
    "    sorted_courses = sorted(similarity_scores, key=lambda x: x[1], reverse=True)\n",
    "    # Get top recommendations (excluding itself)\n",
    "    top_recommendations = sorted_courses[1:10]  # Top 10\n",
    "    # Display recommendations\n",
    "    recommendations = [data['title'].iloc[i[0]] for i in top_recommendations]\n",
    "    return recommendations"
   ]
  },
  {
   "cell_type": "code",
   "execution_count": 10,
   "metadata": {},
   "outputs": [
    {
     "name": "stdout",
     "output_type": "stream",
     "text": [
      "Recommended courses for 'Fetching Data From an API | Day 17 | 100 Days of Machine Learning':\n",
      "\n"
     ]
    }
   ],
   "source": [
    "# Test the recommender\n",
    "sample_index = 30  # Index of the course you want to find recommendations for\n",
    "recommendations = get_recommendations(sample_index, cosine_sim_matrix, data)\n",
    "print(f\"Recommended courses for '{data['title'].iloc[sample_index]}':\\n\")"
   ]
  },
  {
   "cell_type": "code",
   "execution_count": 11,
   "metadata": {},
   "outputs": [
    {
     "data": {
      "text/plain": [
       "['Fetching data using Web Scraping | Day 18 | 100 Days of Machine Learning',\n",
       " 'Working with JSON/SQL | Day 16 | 100 Days of Machine Learning',\n",
       " 'Outlier Detection using the Percentile Method | Winsorization Technique',\n",
       " 'Column Transformer in Machine Learning | How to use ColumnTransformer in Sklearn',\n",
       " 'Curse of Dimensionality',\n",
       " 'Pandas Profiling | Day 22 | 100 Days of Machine Learning',\n",
       " 'One Hot Encoding | Handling Categorical Data | Day 27 | 100 Days of Machine Learning',\n",
       " 'Outlier Detection and Removal using the IQR Method | Handing Outliers Part 3',\n",
       " 'Handling Date and Time Variables | Day 34 | 100 Days of Machine Learning']"
      ]
     },
     "execution_count": 11,
     "metadata": {},
     "output_type": "execute_result"
    }
   ],
   "source": [
    "recommendations"
   ]
  },
  {
   "cell_type": "code",
   "execution_count": null,
   "metadata": {},
   "outputs": [],
   "source": []
  }
 ],
 "metadata": {
  "kernelspec": {
   "display_name": "base",
   "language": "python",
   "name": "python3"
  },
  "language_info": {
   "codemirror_mode": {
    "name": "ipython",
    "version": 3
   },
   "file_extension": ".py",
   "mimetype": "text/x-python",
   "name": "python",
   "nbconvert_exporter": "python",
   "pygments_lexer": "ipython3",
   "version": "3.11.5"
  }
 },
 "nbformat": 4,
 "nbformat_minor": 2
}
