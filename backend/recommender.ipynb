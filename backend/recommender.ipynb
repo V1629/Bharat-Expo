{
 "cells": [
  {
   "cell_type": "code",
   "execution_count": 1,
   "metadata": {},
   "outputs": [],
   "source": [
    "# Import necessary libraries\n",
    "import pandas as pd\n",
    "from sklearn.feature_extraction.text import TfidfVectorizer\n",
    "from sklearn.metrics.pairwise import cosine_similarity"
   ]
  },
  {
   "cell_type": "code",
   "execution_count": 2,
   "metadata": {},
   "outputs": [
    {
     "data": {
      "text/html": [
       "<div>\n",
       "<style scoped>\n",
       "    .dataframe tbody tr th:only-of-type {\n",
       "        vertical-align: middle;\n",
       "    }\n",
       "\n",
       "    .dataframe tbody tr th {\n",
       "        vertical-align: top;\n",
       "    }\n",
       "\n",
       "    .dataframe thead th {\n",
       "        text-align: right;\n",
       "    }\n",
       "</style>\n",
       "<table border=\"1\" class=\"dataframe\">\n",
       "  <thead>\n",
       "    <tr style=\"text-align: right;\">\n",
       "      <th></th>\n",
       "      <th>title</th>\n",
       "      <th>description</th>\n",
       "      <th>publishedAt</th>\n",
       "      <th>channelTitle</th>\n",
       "      <th>videoId</th>\n",
       "    </tr>\n",
       "  </thead>\n",
       "  <tbody>\n",
       "    <tr>\n",
       "      <th>0</th>\n",
       "      <td>100 Days of Deep Learning | Course Announcement</td>\n",
       "      <td>So we are finally starting with 100 days of De...</td>\n",
       "      <td>2022-02-15T12:13:43Z</td>\n",
       "      <td>CampusX</td>\n",
       "      <td>2dH_qjc9mFg</td>\n",
       "    </tr>\n",
       "    <tr>\n",
       "      <th>1</th>\n",
       "      <td>What is Deep Learning? Deep Learning Vs Machin...</td>\n",
       "      <td>Deep Learning is a subset of machine learning ...</td>\n",
       "      <td>2022-02-17T00:49:41Z</td>\n",
       "      <td>CampusX</td>\n",
       "      <td>fHF22Wxuyw4</td>\n",
       "    </tr>\n",
       "    <tr>\n",
       "      <th>2</th>\n",
       "      <td>Types of Neural Networks | History of Deep Lea...</td>\n",
       "      <td>In this video, we'll break down the different ...</td>\n",
       "      <td>2022-02-17T12:22:56Z</td>\n",
       "      <td>CampusX</td>\n",
       "      <td>fne_UE7hDn0</td>\n",
       "    </tr>\n",
       "    <tr>\n",
       "      <th>3</th>\n",
       "      <td>What is a Perceptron? Perceptron Vs Neuron | P...</td>\n",
       "      <td>Code - https://github.com/campusx-official/100...</td>\n",
       "      <td>2022-02-19T02:35:49Z</td>\n",
       "      <td>CampusX</td>\n",
       "      <td>X7iIKPoZ0Sw</td>\n",
       "    </tr>\n",
       "    <tr>\n",
       "      <th>4</th>\n",
       "      <td>Perceptron Trick | How to train a Perceptron |...</td>\n",
       "      <td>Code - https://github.com/campusx-official/100...</td>\n",
       "      <td>2022-02-23T12:16:35Z</td>\n",
       "      <td>CampusX</td>\n",
       "      <td>Lu2bruOHN6g</td>\n",
       "    </tr>\n",
       "    <tr>\n",
       "      <th>5</th>\n",
       "      <td>Perceptron Loss Function | Hinge Loss | Binary...</td>\n",
       "      <td>The Perceptron Loss Function is a measure used...</td>\n",
       "      <td>2022-02-25T12:04:31Z</td>\n",
       "      <td>CampusX</td>\n",
       "      <td>2_gCL5RAkHc</td>\n",
       "    </tr>\n",
       "    <tr>\n",
       "      <th>6</th>\n",
       "      <td>Problem with Perceptron</td>\n",
       "      <td>The problem with Perceptrons lies in their lim...</td>\n",
       "      <td>2022-02-26T03:07:06Z</td>\n",
       "      <td>CampusX</td>\n",
       "      <td>Jp44b27VnOg</td>\n",
       "    </tr>\n",
       "    <tr>\n",
       "      <th>7</th>\n",
       "      <td>MLP Notation</td>\n",
       "      <td>Multi-Layer Perceptron (MLP) Notation refers t...</td>\n",
       "      <td>2022-02-26T03:08:14Z</td>\n",
       "      <td>CampusX</td>\n",
       "      <td>H0_3SJh4Rqs</td>\n",
       "    </tr>\n",
       "    <tr>\n",
       "      <th>8</th>\n",
       "      <td>Multi Layer Perceptron | MLP Intuition</td>\n",
       "      <td>A Multi-Layer Perceptron (MLP) is a type of ar...</td>\n",
       "      <td>2022-02-26T05:45:31Z</td>\n",
       "      <td>CampusX</td>\n",
       "      <td>qw7wFGgNCSU</td>\n",
       "    </tr>\n",
       "    <tr>\n",
       "      <th>9</th>\n",
       "      <td>Forward Propagation | How a neural network pre...</td>\n",
       "      <td>Forward Propagation is a fundamental step in t...</td>\n",
       "      <td>2022-03-05T02:18:01Z</td>\n",
       "      <td>CampusX</td>\n",
       "      <td>7MuiScUkboE</td>\n",
       "    </tr>\n",
       "  </tbody>\n",
       "</table>\n",
       "</div>"
      ],
      "text/plain": [
       "                                               title  \\\n",
       "0    100 Days of Deep Learning | Course Announcement   \n",
       "1  What is Deep Learning? Deep Learning Vs Machin...   \n",
       "2  Types of Neural Networks | History of Deep Lea...   \n",
       "3  What is a Perceptron? Perceptron Vs Neuron | P...   \n",
       "4  Perceptron Trick | How to train a Perceptron |...   \n",
       "5  Perceptron Loss Function | Hinge Loss | Binary...   \n",
       "6                            Problem with Perceptron   \n",
       "7                                       MLP Notation   \n",
       "8             Multi Layer Perceptron | MLP Intuition   \n",
       "9  Forward Propagation | How a neural network pre...   \n",
       "\n",
       "                                         description           publishedAt  \\\n",
       "0  So we are finally starting with 100 days of De...  2022-02-15T12:13:43Z   \n",
       "1  Deep Learning is a subset of machine learning ...  2022-02-17T00:49:41Z   \n",
       "2  In this video, we'll break down the different ...  2022-02-17T12:22:56Z   \n",
       "3  Code - https://github.com/campusx-official/100...  2022-02-19T02:35:49Z   \n",
       "4  Code - https://github.com/campusx-official/100...  2022-02-23T12:16:35Z   \n",
       "5  The Perceptron Loss Function is a measure used...  2022-02-25T12:04:31Z   \n",
       "6  The problem with Perceptrons lies in their lim...  2022-02-26T03:07:06Z   \n",
       "7  Multi-Layer Perceptron (MLP) Notation refers t...  2022-02-26T03:08:14Z   \n",
       "8  A Multi-Layer Perceptron (MLP) is a type of ar...  2022-02-26T05:45:31Z   \n",
       "9  Forward Propagation is a fundamental step in t...  2022-03-05T02:18:01Z   \n",
       "\n",
       "  channelTitle      videoId  \n",
       "0      CampusX  2dH_qjc9mFg  \n",
       "1      CampusX  fHF22Wxuyw4  \n",
       "2      CampusX  fne_UE7hDn0  \n",
       "3      CampusX  X7iIKPoZ0Sw  \n",
       "4      CampusX  Lu2bruOHN6g  \n",
       "5      CampusX  2_gCL5RAkHc  \n",
       "6      CampusX  Jp44b27VnOg  \n",
       "7      CampusX  H0_3SJh4Rqs  \n",
       "8      CampusX  qw7wFGgNCSU  \n",
       "9      CampusX  7MuiScUkboE  "
      ]
     },
     "execution_count": 2,
     "metadata": {},
     "output_type": "execute_result"
    }
   ],
   "source": [
    "# Load course data (assuming data is available as a CSV file)\n",
    "data = pd.read_csv('youtube_api.csv')  # Replace with your data source\n",
    "data.head(10) # Check the first few entries to understand the structure"
   ]
  },
  {
   "cell_type": "code",
   "execution_count": 3,
   "metadata": {},
   "outputs": [],
   "source": [
    "# Step 1: Preprocessing\n",
    "# Convert descriptions to lowercase and handle NaN values\n",
    "data['description'] = data['description'].fillna('').str.lower()"
   ]
  },
  {
   "cell_type": "code",
   "execution_count": 4,
   "metadata": {},
   "outputs": [],
   "source": [
    "# Step 2: TF-IDF Vectorization\n",
    "vectorizer = TfidfVectorizer(stop_words='english')\n",
    "tfidf_matrix = vectorizer.fit_transform(data['description'])"
   ]
  },
  {
   "cell_type": "code",
   "execution_count": 5,
   "metadata": {},
   "outputs": [],
   "source": [
    "# Step 3: Compute Cosine Similarity Matrix\n",
    "cosine_sim_matrix = cosine_similarity(tfidf_matrix, tfidf_matrix)"
   ]
  },
  {
   "cell_type": "code",
   "execution_count": 6,
   "metadata": {},
   "outputs": [],
   "source": [
    "# Step 4: Building a Recommendation Function\n",
    "def get_recommendations(course_index, cosine_sim_matrix, data):\n",
    "    # Get similarity scores for the input course\n",
    "    similarity_scores = list(enumerate(cosine_sim_matrix[course_index]))\n",
    "    # Sort the courses based on similarity scores\n",
    "    sorted_courses = sorted(similarity_scores, key=lambda x: x[1], reverse=True)\n",
    "    # Get top recommendations (excluding itself)\n",
    "    top_recommendations = sorted_courses[1:10]  # Top 10\n",
    "    # Display recommendations\n",
    "    recommendations = [data['title'].iloc[i[0]] for i in top_recommendations]\n",
    "    return recommendations"
   ]
  },
  {
   "cell_type": "code",
   "execution_count": 7,
   "metadata": {},
   "outputs": [
    {
     "name": "stdout",
     "output_type": "stream",
     "text": [
      "Recommended courses for 'Forward Propagation | How a neural network predicts output?':\n",
      "\n"
     ]
    }
   ],
   "source": [
    "# Test the recommender\n",
    "sample_index = 9  # Index of the course you want to find recommendations for\n",
    "recommendations = get_recommendations(sample_index, cosine_sim_matrix, data)\n",
    "print(f\"Recommended courses for '{data['title'].iloc[sample_index]}':\\n\")"
   ]
  },
  {
   "cell_type": "code",
   "execution_count": 8,
   "metadata": {},
   "outputs": [
    {
     "data": {
      "text/plain": [
       "['MLP Notation',\n",
       " '100 Days of Deep Learning | Course Announcement',\n",
       " 'How to Improve the Performance of a Neural Network',\n",
       " 'Backpropagation in Deep Learning | Part 1 | The What?',\n",
       " 'Customer Churn Prediction using ANN | Keras and Tensorflow | Deep Learning Classification',\n",
       " 'Data Augmentation in Deep Learning | CNN',\n",
       " 'Data Scaling in Neural Network | Feature Scaling in ANN | End to End Deep Learning Course',\n",
       " 'Perceptron Trick | How to train a Perceptron | Perceptron Part 2 |  Deep Learning Full Course',\n",
       " 'Backpropagation in CNN | Part 1 | Deep Learning']"
      ]
     },
     "execution_count": 8,
     "metadata": {},
     "output_type": "execute_result"
    }
   ],
   "source": [
    "recommendations"
   ]
  }
 ],
 "metadata": {
  "kernelspec": {
   "display_name": "base",
   "language": "python",
   "name": "python3"
  },
  "language_info": {
   "codemirror_mode": {
    "name": "ipython",
    "version": 3
   },
   "file_extension": ".py",
   "mimetype": "text/x-python",
   "name": "python",
   "nbconvert_exporter": "python",
   "pygments_lexer": "ipython3",
   "version": "3.11.5"
  }
 },
 "nbformat": 4,
 "nbformat_minor": 2
}
